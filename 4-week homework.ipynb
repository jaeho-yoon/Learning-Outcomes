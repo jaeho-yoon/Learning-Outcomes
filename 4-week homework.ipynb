{
 "cells": [
  {
   "cell_type": "code",
   "execution_count": 1,
   "id": "a4385517",
   "metadata": {},
   "outputs": [
    {
     "name": "stdout",
     "output_type": "stream",
     "text": [
      "(0, 0)\n",
      "(1, 0)\n",
      "(1, 0)\n",
      "(0, 1)\n",
      "(1, 0)\n",
      "(0, 1)\n",
      "(0, 1)\n",
      "(1, 1)\n"
     ]
    }
   ],
   "source": [
    "import numpy as np\n",
    "\n",
    "def AND(x1, x2): #AND 함수\n",
    "    w1, w2, theta = 0.5, 0.5, 0.7\n",
    "    temp = x1*w1 + x2*w2\n",
    "    if temp <= theta:\n",
    "        return 0\n",
    "    elif temp > theta:\n",
    "        return 1\n",
    "    \n",
    "def OR(x1, x2): #OR 함수\n",
    "    x = np.array([x1, x2])\n",
    "    w = np.array([0.5, 0.5])\n",
    "    b = -0.2\n",
    "    temp = np.sum(w*x) + b\n",
    "    if temp <= 0:\n",
    "        return 0\n",
    "    else:\n",
    "        return 1\n",
    "    \n",
    "def NAND(x1, x2): #NAND 함수\n",
    "    x = np.array([x1, x2])\n",
    "    w = np.array([-0.5, -0.5])\n",
    "    b = 0.7\n",
    "    temp = np.sum(w*x) + b\n",
    "    if temp <= 0:\n",
    "        return 0\n",
    "    else:\n",
    "        return 1\n",
    "\n",
    "def XOR(x1, x2): #XOR 함수\n",
    "    s1 = NAND(x1, x2)\n",
    "    s2 = OR(x1, x2)\n",
    "    y = AND(s1, s2)\n",
    "    return y\n",
    "    \n",
    "def FA(x1, x2, c_in): #Full Adder 함수\n",
    "    s1 = XOR(x1, x2)\n",
    "    c1 = AND(x1, x2)\n",
    "    s2 = XOR(s1, c_in)\n",
    "    c2 = AND(s1, c_in)\n",
    "    c3 = OR(c2, c1)\n",
    "    return((s2, c3)) \n",
    "    \n",
    "print(FA(0,0,0)) #(Full adder A=0 B=0,C_in=0) -> (sum=0. C_out=0) 출력\n",
    "print(FA(0,0,1)) #(Full adder A=0 B=0 C_in=1) -> (sum=1. C_out=0) 출력\n",
    "print(FA(0,1,0)) #(Full adder A=0 B=1 C_in=0) -> (sum=1  C_out=0) 출력\n",
    "print(FA(0,1,1)) #(Full adder A=0 B=1 C_in=1) -> (sum=0. C_out=1) 출력\n",
    "print(FA(1,0,0)) #(Full adder A=1 B=0 C_in=0) -> (sum=1. C_out=0) 출력\n",
    "print(FA(1,0,1)) #(Full adder A=1 B=0 C_in=1) -> (sum=0. C_out=1) 출력\n",
    "print(FA(1,1,0)) #(Full adder A=1 B=1 C_in=0) -> (sum=0. C_out=1) 출력\n",
    "print(FA(1,1,1)) #(Full adder A=1 B=1 C_in=1) -> (sum=1. C_out=1) 출력"
   ]
  }
 ],
 "metadata": {
  "kernelspec": {
   "display_name": "Python 3 (ipykernel)",
   "language": "python",
   "name": "python3"
  },
  "language_info": {
   "codemirror_mode": {
    "name": "ipython",
    "version": 3
   },
   "file_extension": ".py",
   "mimetype": "text/x-python",
   "name": "python",
   "nbconvert_exporter": "python",
   "pygments_lexer": "ipython3",
   "version": "3.9.13"
  }
 },
 "nbformat": 4,
 "nbformat_minor": 5
}
